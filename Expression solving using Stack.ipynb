{
 "cells": [
  {
   "cell_type": "code",
   "execution_count": 1,
   "metadata": {},
   "outputs": [],
   "source": [
    "\n",
    "class ArrayStack:\n",
    "    \"\"\"A Sample stack on LIFO principle\"\"\"\n",
    "    def __init__(self):\n",
    "        self._data=[]\n",
    "\n",
    "    def __len__(self):\n",
    "         \"\"\"Return the number of elements in the stack\"\"\"\n",
    "         return len(self._data)\n",
    "    def is_empty(self):\n",
    "        \"\"\"\"Return True if stack is empty\"\"\"\n",
    "        return len(self._data)==0\n",
    "    def push(self,val):\n",
    "        \"\"\"push the val in the stack\"\"\"\n",
    "        self._data.append(val)\n",
    "\n",
    "    def pop(self):\n",
    "        \"\"\"delete the last entered element from the stack and returns it\"\"\"\n",
    "        #exception andling syntax is taken from internet\n",
    "        try:\n",
    "            return self._data.pop()\n",
    "        except IndexError:\n",
    "            print('Stack is empty')\n",
    "    def top(self):\n",
    "        \"\"\"returns the last entered element if non empty stack\"\"\"\n",
    "        try:\n",
    "            return self._data[-1]\n",
    "        except IndexError:\n",
    "            print('Stack is empty')\n",
    "        \n"
   ]
  },
  {
   "cell_type": "code",
   "execution_count": 2,
   "metadata": {},
   "outputs": [],
   "source": [
    "# syntax for using operator module is taken from the internet to perform actual operations from operators as string\n",
    "import operator\n",
    "\n",
    "def EvalExp(exp):  \n",
    "    \"\"\"Takes the expression(without bracket) string as argument\n",
    "    and return the value of expression, only for 4 operators(+,-,*,/)\n",
    "    operands must be single digit integers only\"\"\"\n",
    "    \n",
    "    operators = {\"+\": operator.add,\"-\": operator.sub,\"*\": operator.mul,\"/\": operator.truediv}\n",
    "    preced={'$':0,'+':1,'-':1,'*':2,'/':3} #defining precedence \n",
    "    #creating the empty stacks\n",
    "    valStk=ArrayStack()\n",
    "    opStk=ArrayStack()\n",
    "    def doOp():\n",
    "        x=valStk.pop()\n",
    "        y=valStk.pop()\n",
    "        op=opStk.pop()\n",
    "        opr=operators[op] #this opr will take two arguments as operands and perform our desired operation according to the expression\n",
    "        valStk.push(opr(int(y),int(x)))\n",
    "    def repeatOps(refOp):\n",
    "        while (len(valStk)>1 and preced[refOp] < preced[opStk.top()]):\n",
    "            doOp()\n",
    "    #reading the expression\n",
    "    for i in exp:\n",
    "        if i == ' ':  #to handle the spaces between the operands and operators\n",
    "            pass\n",
    "        elif i in preced.keys():\n",
    "            repeatOps(i)\n",
    "            opStk.push(i)\n",
    "        else:\n",
    "            valStk.push(i)\n",
    "    repeatOps('$')\n",
    "    return valStk.top()\n"
   ]
  },
  {
   "cell_type": "code",
   "execution_count": 5,
   "metadata": {},
   "outputs": [
    {
     "data": {
      "text/plain": [
       "26"
      ]
     },
     "execution_count": 5,
     "metadata": {},
     "output_type": "execute_result"
    }
   ],
   "source": [
    "expr='3 + 7 * 3 + 4 / 2 '\n",
    "EvalExp(expr)"
   ]
  }
 ],
 "metadata": {
  "kernelspec": {
   "display_name": "Python 3",
   "language": "python",
   "name": "python3"
  },
  "language_info": {
   "codemirror_mode": {
    "name": "ipython",
    "version": 3
   },
   "file_extension": ".py",
   "mimetype": "text/x-python",
   "name": "python",
   "nbconvert_exporter": "python",
   "pygments_lexer": "ipython3",
   "version": "3.11.4"
  }
 },
 "nbformat": 4,
 "nbformat_minor": 2
}
