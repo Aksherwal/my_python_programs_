{
 "cells": [
  {
   "cell_type": "markdown",
   "metadata": {},
   "source": [
    "Write a python program to show the ideal body weight with the help of height."
   ]
  },
  {
   "cell_type": "code",
   "execution_count": null,
   "metadata": {},
   "outputs": [],
   "source": [
    "#This program is to calculate your ideal body weight acoording to your height using Robinson Formula\n",
    "\n",
    "x=int(input(\"Enter 1 of you are male or 0 if you are female \"))     #taking user input to specify male or female\n",
    "ht=float(input(\"Enter your height in inches \"))                      #taking user input as his/her height in inches\n",
    "# here IBW denotes Ideal Body Weight\n",
    "if x==1:\n",
    "    IBW=52+(1.9*(ht-60))                           #Applying Robinson formula for male\n",
    "    print(\"Your ideal weight should be \",IBW)\n",
    "elif x==0:\n",
    "    ibw=49+(1.7*(ht-60))                           #Applying Robinson formula for female \n",
    "    print(\"Your ideal weight should be \",ibw)\n",
    "else:\n",
    "    print(\"SORRY, This program is not for you\")     #This output will be shown if someone entered input other than 1 and 0 in first line\n",
    "\n",
    "#program finished\n",
    "# THANK YOU\n"
   ]
  }
 ],
 "metadata": {
  "kernelspec": {
   "display_name": "Python 3",
   "language": "python",
   "name": "python3"
  },
  "language_info": {
   "name": "python",
   "version": "3.11.4"
  }
 },
 "nbformat": 4,
 "nbformat_minor": 2
}
