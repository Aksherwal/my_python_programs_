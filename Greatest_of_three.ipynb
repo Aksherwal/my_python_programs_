{
 "cells": [
  {
   "cell_type": "markdown",
   "metadata": {},
   "source": [
    "Write a program that will take 3 numbers and tell which is greatest."
   ]
  },
  {
   "cell_type": "code",
   "execution_count": null,
   "metadata": {},
   "outputs": [],
   "source": [
    "#this is the program for finding the greatest number among given 3 numbers.\n",
    "num1=float(input(\"Enter first number as num1 \"))   #taking first input from user\n",
    "num2=float(input(\"Enter second number as num2 \"))  #taking second input from user\n",
    "num3=float(input(\"Enter third number as num3 \"))   #taking third input from user\n",
    "\n",
    "# using comparison operators inside if, elif & else conditional operators\n",
    "if num1>num2:\n",
    "    if num1>num3:\n",
    "        print(\" num1 is greatest number\")\n",
    "    elif num1==num3:\n",
    "        print(\" both num1 & num3 are greatest\")\n",
    "    else:\n",
    "        print(\" num3 is greatest number \")\n",
    "elif num1==num2:\n",
    "    if num1>num3:\n",
    "        print(\" both num1 & num2 are greatest\")\n",
    "    elif a==c:\n",
    "        print(\" all numbers are equal\")\n",
    "    else:\n",
    "        print(\" num3 is greatest\")\n",
    "elif num2==num3:\n",
    "    print(\" both num2 & num3 are greatest\")\n",
    "elif num2>num3:\n",
    "    print(\"num2 is greatest\")\n",
    "else:\n",
    "    print(\" num3 is greatest\")\n",
    "\n",
    "    #program finished\n",
    "    #THANK YOU"
   ]
  }
 ],
 "metadata": {
  "kernelspec": {
   "display_name": "Python 3",
   "language": "python",
   "name": "python3"
  },
  "language_info": {
   "name": "python",
   "version": "3.11.4"
  }
 },
 "nbformat": 4,
 "nbformat_minor": 2
}
